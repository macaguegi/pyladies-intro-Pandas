{
 "cells": [
  {
   "cell_type": "markdown",
   "metadata": {},
   "source": [
    "<h1><center>Introducción al Análisis de Datos con Pandas</center></h1>\n",
    "<h2><center>Ponente : María Camila Guerrero Giraldo </center></h2>\n",
    "<h3><center>Agosto 27 de 2018</center></h3>\n",
    "\n",
    "> *Nota*: Los contenidos de este cuaderno fueron tomados de la documentación oficial de Pandas [aquí](https://pandas.pydata.org/pandas-docs/stable/).\n"
   ]
  },
  {
   "cell_type": "markdown",
   "metadata": {},
   "source": [
    "A través de este ejercicio veremos algunas de las operaciones más utlizadas en Pandas. Para empezar, importo Pandas y otras librerias que serán útiles a la hora de realizar el análisis de datos :"
   ]
  },
  {
   "cell_type": "code",
   "execution_count": null,
   "metadata": {},
   "outputs": [],
   "source": [
    "#Importar las librerías necesarias :) \n",
    "import numpy as np \n",
    "import pandas as pd \n",
    "import matplotlib as mpl\n",
    "import matplotlib.pyplot as plt\n",
    "import os\n",
    "%matplotlib inline\n",
    "from subprocess import check_output\n",
    "from wordcloud import WordCloud, STOPWORDS\n"
   ]
  },
  {
   "cell_type": "markdown",
   "metadata": {},
   "source": [
    "## 0. Requerimientos de los datos y recolección"
   ]
  },
  {
   "cell_type": "markdown",
   "metadata": {},
   "source": [
    "http://notes.io/1BCx\n",
    "\n",
    "Los dos datasets que se usan en este cuaderno se generaron de la API de Spotify y están disponibles en [esta carpeta](https://drive.google.com/open?id=1dpae_kU08ITSBpBK9GYxaMqlWKryj63O). Se llaman data.csv y features.csv respectivamente. Cuando los hayas descargado guardalos en un directorio y cambia la ruta que aparece más abajo\n"
   ]
  },
  {
   "cell_type": "markdown",
   "metadata": {},
   "source": [
    "## 1. Lectura y estructura"
   ]
  },
  {
   "cell_type": "markdown",
   "metadata": {},
   "source": [
    "Pandas tiene varios métodos para cargar archivos según su extensión. Existen por ejemplo :\n",
    "\n",
    "    read_csv\n",
    "    read_excel\n",
    "    read_html\n",
    "    read_json\n",
    "    read_sas\n",
    "    read_sql\n",
    "    read_stata\n",
    "\n",
    "Los dos conjuntos de datos con los que trabajé están guardados en formato *CSV* (comma-separated values), un formato de texto plano . Por ello vamos a usar la función `read_csv`."
   ]
  },
  {
   "cell_type": "code",
   "execution_count": null,
   "metadata": {},
   "outputs": [],
   "source": [
    "#Cargar los conjuntos de datos\n",
    "data = pd.read_csv('C:/Users/Camila/Documents/Jupyter/data.csv')\n",
    "features = pd.read_csv('C:/Users/Camila/Documents/Jupyter/featuresdf.csv')"
   ]
  },
  {
   "cell_type": "code",
   "execution_count": null,
   "metadata": {},
   "outputs": [],
   "source": [
    "#Identificando el dataset1\n",
    "print(data.columns.values)\n",
    "data.dtypes"
   ]
  },
  {
   "cell_type": "code",
   "execution_count": null,
   "metadata": {},
   "outputs": [],
   "source": [
    "#Identificando el dataset2 de características\n",
    "print(features.columns.values)\n",
    "features.dtypes"
   ]
  },
  {
   "cell_type": "code",
   "execution_count": null,
   "metadata": {},
   "outputs": [],
   "source": [
    "print(\"El dataset 1 tiene \" + str(len(data)) + \" registros\")\n",
    "print(\"El dataset 2 de features tiene \" + str(len(features)) + \" registros\")"
   ]
  },
  {
   "cell_type": "markdown",
   "metadata": {},
   "source": [
    "## 2. Procesamiento "
   ]
  },
  {
   "cell_type": "markdown",
   "metadata": {},
   "source": [
    "### Limpieza"
   ]
  },
  {
   "cell_type": "markdown",
   "metadata": {},
   "source": [
    "En algunos análisis se remueven los registros que presentan información incompleta para que estos valores no intervengan en la estadística descriptiva y la presentación de resultados"
   ]
  },
  {
   "cell_type": "code",
   "execution_count": null,
   "metadata": {},
   "outputs": [],
   "source": [
    "data = data.dropna(axis=0, how=\"any\")"
   ]
  },
  {
   "cell_type": "code",
   "execution_count": null,
   "metadata": {},
   "outputs": [],
   "source": [
    "features = features.dropna(axis=0, how=\"any\")"
   ]
  },
  {
   "cell_type": "code",
   "execution_count": null,
   "metadata": {},
   "outputs": [],
   "source": [
    "print(\"Removiendo valores en blanco el dataset 1 tiene ahora \" + str(len(data)) + \" registros\")"
   ]
  },
  {
   "cell_type": "code",
   "execution_count": null,
   "metadata": {},
   "outputs": [],
   "source": [
    "print(\"Removiendo valores en blanco el dataset 2 tiene ahora \" + str(len(features)) + \" registros\")"
   ]
  },
  {
   "cell_type": "markdown",
   "metadata": {},
   "source": [
    "### Filtrado"
   ]
  },
  {
   "cell_type": "markdown",
   "metadata": {},
   "source": [
    "En esta parte usé algunas operaciones básicas de filtrado. Para seleccionar columnas de estos  datos, podemos hacerlo de las siguientes formas:"
   ]
  },
  {
   "cell_type": "code",
   "execution_count": null,
   "metadata": {},
   "outputs": [],
   "source": [
    "posicion = data['Position']\n",
    "nombre = data['Track Name']\n",
    "artista = data['Artist']\n",
    "stream = data['Streams']\n",
    "url = data['URL']\n",
    "fecha = data['Date']\n",
    "region = data['Region']"
   ]
  },
  {
   "cell_type": "code",
   "execution_count": null,
   "metadata": {},
   "outputs": [],
   "source": [
    "nombreF = features['name']\n",
    "artistas = features['artists']\n",
    "es_bailable = features['danceability']\n",
    "es_energica = features['energy']\n",
    "key = features['key']\n",
    "es_ruidosa = features['loudness']\n",
    "modo = features['mode']\n",
    "tiene_habla = features['speechiness']\n",
    "es_acustica = features['acousticness']\n",
    "es_vocal = features['instrumentalness']\n",
    "en_vivo = features['liveness']\n",
    "valencia = features['valence']\n",
    "tempo = features['tempo']\n",
    "duracion = features['duration_ms']\n",
    "tiempoS = features['time_signature']"
   ]
  },
  {
   "cell_type": "markdown",
   "metadata": {},
   "source": [
    "Esta operación no retorna un Dataframe ,sino un objeto de tipo Series. Además con el metodo ´head( )´ visualizamos tan solo los 5 primeros datos de la serie . "
   ]
  },
  {
   "cell_type": "code",
   "execution_count": null,
   "metadata": {
    "scrolled": true
   },
   "outputs": [],
   "source": [
    "nombre.head()"
   ]
  },
  {
   "cell_type": "code",
   "execution_count": null,
   "metadata": {
    "scrolled": true
   },
   "outputs": [],
   "source": [
    "type(nombre)"
   ]
  },
  {
   "cell_type": "markdown",
   "metadata": {},
   "source": [
    "## 3. Análisis Exploratorio"
   ]
  },
  {
   "cell_type": "markdown",
   "metadata": {},
   "source": [
    "### Estadística Descriptiva"
   ]
  },
  {
   "cell_type": "code",
   "execution_count": null,
   "metadata": {},
   "outputs": [],
   "source": [
    "# Media indica que la mayoria de las canciones son bailables\n",
    "es_bailable.mean()"
   ]
  },
  {
   "cell_type": "code",
   "execution_count": null,
   "metadata": {},
   "outputs": [],
   "source": [
    "# En promedio las canciones duran 3.6 minutos\n",
    "duracion_minutos = (duracion.mean()*0.001)/60\n",
    "print(duracion_minutos)"
   ]
  },
  {
   "cell_type": "code",
   "execution_count": null,
   "metadata": {
    "scrolled": true
   },
   "outputs": [],
   "source": [
    "# El número de decibeles promedio es de -5dB\n",
    "es_ruidosa.mean()"
   ]
  },
  {
   "cell_type": "code",
   "execution_count": null,
   "metadata": {},
   "outputs": [],
   "source": [
    "#Dato que más se repite en la columna Tempo\n",
    "tempo.mode()"
   ]
  },
  {
   "cell_type": "code",
   "execution_count": null,
   "metadata": {},
   "outputs": [],
   "source": [
    "#Descripción estadística de la columna energy\n",
    "es_energica.describe()"
   ]
  },
  {
   "cell_type": "markdown",
   "metadata": {},
   "source": [
    "La función describe genera estadísticas descriptivas que resumen la tendencia central, la dispersión y la distribución que tiene el conjunto de datos. Excluye los valores NaN."
   ]
  },
  {
   "cell_type": "code",
   "execution_count": null,
   "metadata": {},
   "outputs": [],
   "source": [
    "#Descripción estadística de la columna liveness \n",
    "en_vivo.describe()"
   ]
  },
  {
   "cell_type": "code",
   "execution_count": null,
   "metadata": {},
   "outputs": [],
   "source": [
    "#Canciones que duran más de 5 minutos (5 min * 60 seg * 1000 ms)\n",
    "features[features.duration_ms>= 300000]"
   ]
  },
  {
   "cell_type": "code",
   "execution_count": null,
   "metadata": {},
   "outputs": [],
   "source": [
    "conteo_artistas = artistas.value_counts() #esto es una serie\n",
    "top_artistas = conteo_artistas[(conteo_artistas > 1)]"
   ]
  },
  {
   "cell_type": "markdown",
   "metadata": {},
   "source": [
    "## 4. Modelado "
   ]
  },
  {
   "cell_type": "markdown",
   "metadata": {},
   "source": [
    "A continuación veremos la correlación entre las características del DataFrame features"
   ]
  },
  {
   "cell_type": "code",
   "execution_count": null,
   "metadata": {},
   "outputs": [],
   "source": [
    "#Extraer las características del dataset\n",
    "feat = features.loc[:, 'danceability':'liveness']"
   ]
  },
  {
   "cell_type": "code",
   "execution_count": null,
   "metadata": {
    "scrolled": false
   },
   "outputs": [],
   "source": [
    "feat.tail()"
   ]
  },
  {
   "cell_type": "code",
   "execution_count": null,
   "metadata": {},
   "outputs": [],
   "source": [
    "#Matriz de correlación de las características\n",
    "matrizCorr = feat.corr(method='pearson')"
   ]
  },
  {
   "cell_type": "code",
   "execution_count": null,
   "metadata": {},
   "outputs": [],
   "source": [
    "matrizCorr"
   ]
  },
  {
   "cell_type": "markdown",
   "metadata": {},
   "source": [
    "## 5. Presentación y visualización de datos"
   ]
  },
  {
   "cell_type": "markdown",
   "metadata": {},
   "source": [
    "El método plot de las series y de los DataFrames es sólo un simple decorador o envolvente del método plot de matplotlib, según la documentación :) "
   ]
  },
  {
   "cell_type": "code",
   "execution_count": null,
   "metadata": {},
   "outputs": [],
   "source": [
    "top_artistas.plot(kind='bar', x='Artistas' , title='Top de artistas en el año 2017' , y='Apariciones')"
   ]
  },
  {
   "cell_type": "code",
   "execution_count": null,
   "metadata": {},
   "outputs": [],
   "source": [
    "#Top 5 por cantidad de streams en Colombia\n",
    "region_co = data[data['Region'] == 'co']\n",
    "region_co_top5=region_co.head(5)"
   ]
  },
  {
   "cell_type": "code",
   "execution_count": null,
   "metadata": {},
   "outputs": [],
   "source": [
    "region_co_top5.plot.pie(y='Streams',labels=region_co_top5['Track Name'])"
   ]
  },
  {
   "cell_type": "code",
   "execution_count": null,
   "metadata": {},
   "outputs": [],
   "source": [
    "#Top 5 por cantidad de streams en USA\n",
    "region_us = data[data['Region'] == 'us']\n",
    "region_us_top5=region_us.head(5)"
   ]
  },
  {
   "cell_type": "code",
   "execution_count": null,
   "metadata": {},
   "outputs": [],
   "source": [
    "region_us_top5"
   ]
  },
  {
   "cell_type": "code",
   "execution_count": null,
   "metadata": {},
   "outputs": [],
   "source": [
    "region_us_top5.plot.pie(y='Streams',labels=region_us_top5['Track Name'])"
   ]
  },
  {
   "cell_type": "markdown",
   "metadata": {},
   "source": [
    "A continuación , se relacionan 3 columnas, para poder presentar un informe de ¿Cuáles son las canciones de Ed Sheeran que estuvieron en el Top 100 de Colombia?"
   ]
  },
  {
   "cell_type": "code",
   "execution_count": null,
   "metadata": {},
   "outputs": [],
   "source": [
    "ed_co_100 = data[(data['Region']=='co') & (data['Artist']=='Ed Sheeran') & (data['Position']<=100)]"
   ]
  },
  {
   "cell_type": "code",
   "execution_count": null,
   "metadata": {},
   "outputs": [],
   "source": [
    "ed_co_100_groupby = ed_co_100.groupby('Track Name').sum()"
   ]
  },
  {
   "cell_type": "code",
   "execution_count": null,
   "metadata": {},
   "outputs": [],
   "source": [
    "ed_co_100_groupby.sort_values('Streams', ascending=False)"
   ]
  },
  {
   "cell_type": "markdown",
   "metadata": {},
   "source": [
    "Una forma interesante de representar la frecuencia de palabras en una columna, es hacerlo a través de un Wordcloud. A continuación veremos como generar uno , darle estilo y guardarlo en un directorio."
   ]
  },
  {
   "cell_type": "code",
   "execution_count": null,
   "metadata": {},
   "outputs": [],
   "source": [
    "os.chdir(\"C://Users/Camila/Desktop\")"
   ]
  },
  {
   "cell_type": "code",
   "execution_count": null,
   "metadata": {},
   "outputs": [],
   "source": [
    "#Wordcloud artista que está liderando el top\n",
    "wordcloud = WordCloud(background_color='white', mode = \"RGB\", width = 2000, height=1000).generate(' '.join(data['Artist']))"
   ]
  },
  {
   "cell_type": "code",
   "execution_count": null,
   "metadata": {},
   "outputs": [],
   "source": [
    "fig = plt.figure(figsize=(20,10))\n",
    "plt.imshow(wordcloud)\n",
    "plt.axis('off')\n",
    "plt.show()\n",
    "fig.savefig(\"word1.png\", dpi=900)"
   ]
  },
  {
   "cell_type": "markdown",
   "metadata": {},
   "source": [
    "Con la información obtenida en el modelado de Correlación, haremos un gráfico de correlación "
   ]
  },
  {
   "cell_type": "code",
   "execution_count": null,
   "metadata": {},
   "outputs": [],
   "source": [
    "cols_matrizCorr=matriz.columns.values"
   ]
  },
  {
   "cell_type": "code",
   "execution_count": null,
   "metadata": {},
   "outputs": [],
   "source": [
    "#Gráfico de la matriz de correlación\n",
    "fig = plt.figure(figsize=(12,12))\n",
    "ax = fig.add_subplot(111)\n",
    "cax = ax.matshow(matriz, vmin=-1, vmax=1)\n",
    "fig.colorbar(cax)\n",
    "ticks = np.arange(0,9,1)\n",
    "ax.set_xticks(ticks)\n",
    "ax.set_yticks(ticks)\n",
    "ax.set_xticklabels(cols_matrizCorr)\n",
    "ax.set_yticklabels(cols_matrizCorr)\n",
    "plt.show()"
   ]
  }
 ],
 "metadata": {
  "kernelspec": {
   "display_name": "Python 3",
   "language": "python",
   "name": "python3"
  },
  "language_info": {
   "codemirror_mode": {
    "name": "ipython",
    "version": 3
   },
   "file_extension": ".py",
   "mimetype": "text/x-python",
   "name": "python",
   "nbconvert_exporter": "python",
   "pygments_lexer": "ipython3",
   "version": "3.6.5"
  }
 },
 "nbformat": 4,
 "nbformat_minor": 2
}
